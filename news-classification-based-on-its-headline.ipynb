{
 "cells": [
  {
   "cell_type": "markdown",
   "metadata": {
    "_cell_guid": "ca79786a-a990-46e1-977a-173ffc01c0a2"
   },
   "source": []
  },
  {
   "cell_type": "markdown",
   "metadata": {
    "_cell_guid": "4a0ee490-b70f-9e99-c019-d61ae7f74660"
   },
   "source": []
  },
  {
   "cell_type": "markdown",
   "metadata": {
    "_cell_guid": "c6f24b2d-34ea-8253-758e-fe7d2b2feeb0"
   },
   "source": []
  },
  {
   "cell_type": "markdown",
   "metadata": {
    "_cell_guid": "5f83be5b-fbe1-d2bb-0837-de16a572d05a"
   },
   "source": []
  },
  {
   "cell_type": "markdown",
   "metadata": {
    "_cell_guid": "e634b344-46ea-3dfe-92d9-482ddce69c18"
   },
   "source": []
  },
  {
   "cell_type": "markdown",
   "metadata": {
    "_cell_guid": "cde415f8-170f-dd00-42a0-ab883f3011d7"
   },
   "source": []
  },
  {
   "cell_type": "markdown",
   "metadata": {
    "_cell_guid": "a3625b34-a00d-4dc9-e658-8d06015ef648"
   },
   "source": []
  },
  {
   "cell_type": "markdown",
   "metadata": {
    "_cell_guid": "749655f3-9025-83be-687c-25a0d2543d20"
   },
   "source": []
  },
  {
   "cell_type": "code",
   "execution_count": 1,
   "metadata": {
    "_cell_guid": "353b19a1-bde1-3252-ce67-5f3a4f52c845"
   },
   "outputs": [],
   "source": [
    "import pandas as pd"
   ]
  },
  {
   "cell_type": "markdown",
   "metadata": {
    "_cell_guid": "757d525b-2e03-c62a-d3e2-98d199d11883"
   },
   "source": []
  },
  {
   "cell_type": "code",
   "execution_count": 2,
   "metadata": {
    "_cell_guid": "ac410fcd-856e-d895-8ab4-52acc53f062e"
   },
   "outputs": [],
   "source": [
    "news = pd.read_csv(\"train.csv\")"
   ]
  },
  {
   "cell_type": "code",
   "execution_count": null,
   "metadata": {
    "_cell_guid": "bda50287-a4d7-08e6-ce78-a18204dc2df9",
    "scrolled": true
   },
   "outputs": [],
   "source": []
  },
  {
   "cell_type": "code",
   "execution_count": 3,
   "metadata": {
    "_cell_guid": "6d8bacc3-5c93-72ae-ed26-39921dc44961",
    "scrolled": true
   },
   "outputs": [
    {
     "name": "stdout",
     "output_type": "stream",
     "text": [
      "   CATEGORY                                              TITLE\n",
      "0         3  Reuters - Short-sellers, Wall Street's dwindli...\n",
      "1         3  Reuters - Private investment firm Carlyle Grou...\n",
      "2         3  Reuters - Soaring crude prices plus worries\\ab...\n",
      "3         3  Reuters - Authorities have halted oil export\\f...\n",
      "4         3  AFP - Tearaway world oil prices, toppling reco...\n",
      "5         3  Reuters - Stocks ended slightly higher on Frid...\n",
      "6         3  AP - Assets of the nation's retail money marke...\n",
      "7         3  USATODAY.com - Retail sales bounced back a bit...\n",
      "8         3  Forbes.com - After earning a PH.D. in Sociolog...\n",
      "9         3   NEW YORK (Reuters) - Short-sellers, Wall Stre...\n"
     ]
    }
   ],
   "source": [
    "print(news.head(10))"
   ]
  },
  {
   "cell_type": "markdown",
   "metadata": {
    "_cell_guid": "6694d156-23a5-8fea-59a6-be7f5a4eda4b"
   },
   "source": []
  },
  {
   "cell_type": "code",
   "execution_count": 4,
   "metadata": {
    "_cell_guid": "47755b3c-b7f3-561d-c520-bcdaa195434d"
   },
   "outputs": [
    {
     "name": "stdout",
     "output_type": "stream",
     "text": [
      "[2 2 2 2 2 2 2 2 2 2 2 2 2 2 2 2 2 2 2 2 2 2 2 2 2 2 2 2 2 2 2 2 2 2 2 2 2\n",
      " 2 2 2 2 2 2 2 2 2 2 2 2 2 2 2 2 2 2 2 2 2 2 2 2 2 2 2 2 2 2 2 2 2 2 2 2 2\n",
      " 2 2 2 2 3 3 3 3 3 3 3 3 3 3 3 3 3 3 3 3 3 3 3 3 3 3]\n"
     ]
    }
   ],
   "source": [
    "from sklearn.preprocessing import LabelEncoder\n",
    "\n",
    "encoder = LabelEncoder()\n",
    "y = encoder.fit_transform(news['CATEGORY'])\n",
    "print(y[:100])\n"
   ]
  },
  {
   "cell_type": "code",
   "execution_count": 5,
   "metadata": {
    "_cell_guid": "25d82147-b462-ccf7-b4e9-fc627dacd7cd"
   },
   "outputs": [
    {
     "name": "stdout",
     "output_type": "stream",
     "text": [
      "Number of news 120000\n"
     ]
    }
   ],
   "source": [
    "categories = news['CATEGORY']\n",
    "titles = news['TITLE']\n",
    "N = len(titles)\n",
    "print('Number of news',N)"
   ]
  },
  {
   "cell_type": "code",
   "execution_count": 6,
   "metadata": {
    "_cell_guid": "0783fd60-000c-9713-e1b5-dd053e12aca7"
   },
   "outputs": [
    {
     "name": "stdout",
     "output_type": "stream",
     "text": [
      "possible categories [1, 2, 3, 4]\n"
     ]
    }
   ],
   "source": [
    "labels = list(set(categories))\n",
    "print('possible categories',labels)"
   ]
  },
  {
   "cell_type": "code",
   "execution_count": 7,
   "metadata": {
    "_cell_guid": "87b07698-7d6b-940b-75e1-34d297705b2b"
   },
   "outputs": [
    {
     "name": "stdout",
     "output_type": "stream",
     "text": [
      "number of  1  news 30000\n",
      "number of  2  news 30000\n",
      "number of  3  news 30000\n",
      "number of  4  news 30000\n"
     ]
    }
   ],
   "source": [
    "for l in labels:\n",
    "    print('number of ',l,' news',len(news.loc[news['CATEGORY'] == l]))"
   ]
  },
  {
   "cell_type": "markdown",
   "metadata": {
    "_cell_guid": "baeb8f68-d78a-ed0b-375c-43747d7be586"
   },
   "source": []
  },
  {
   "cell_type": "code",
   "execution_count": 8,
   "metadata": {
    "_cell_guid": "f05fb551-75a3-6e6b-aae6-b5b1d6955cfb"
   },
   "outputs": [],
   "source": [
    "from sklearn.preprocessing import LabelEncoder\n",
    "encoder = LabelEncoder()\n",
    "ncategories = encoder.fit_transform(categories)"
   ]
  },
  {
   "cell_type": "markdown",
   "metadata": {
    "_cell_guid": "16f7adbb-5b31-3b61-7727-eea4e1366c7b"
   },
   "source": []
  },
  {
   "cell_type": "markdown",
   "metadata": {
    "_cell_guid": "1eb370fe-acce-661d-56fb-f83337054c62"
   },
   "source": []
  },
  {
   "cell_type": "code",
   "execution_count": 9,
   "metadata": {
    "_cell_guid": "5d718182-9ce0-7144-c573-998226174077"
   },
   "outputs": [
    {
     "name": "stdout",
     "output_type": "stream",
     "text": [
      "84000\n"
     ]
    }
   ],
   "source": [
    "Ntrain = int(N * 0.7)\n",
    "print(Ntrain)\n",
    "from sklearn.utils import shuffle\n",
    "titles, ncategories = shuffle(titles, ncategories, random_state=1)"
   ]
  },
  {
   "cell_type": "code",
   "execution_count": 10,
   "metadata": {
    "_cell_guid": "c9f86559-bbcd-8176-e883-a26a70593402",
    "scrolled": true
   },
   "outputs": [
    {
     "name": "stdout",
     "output_type": "stream",
     "text": [
      "X_train.shape (84000,)\n",
      "y_train.shape (84000,)\n",
      "X_test.shape (36000,)\n",
      "y_test.shape (36000,)\n"
     ]
    }
   ],
   "source": [
    "X_train = titles[:Ntrain]\n",
    "print('X_train.shape',X_train.shape)\n",
    "y_train = ncategories[:Ntrain]\n",
    "print('y_train.shape',y_train.shape)\n",
    "X_test = titles[Ntrain:]\n",
    "print('X_test.shape',X_test.shape)\n",
    "y_test = ncategories[Ntrain:]\n",
    "print('y_test.shape',y_test.shape)"
   ]
  },
  {
   "cell_type": "markdown",
   "metadata": {
    "_cell_guid": "14dc4ad5-189d-6035-87ab-2030d6da4494"
   },
   "source": []
  },
  {
   "cell_type": "code",
   "execution_count": 11,
   "metadata": {
    "_cell_guid": "753cf714-4a57-e544-576f-a0f383a6c5de"
   },
   "outputs": [],
   "source": [
    "from sklearn.feature_extraction.text import CountVectorizer\n",
    "from sklearn.feature_extraction.text import TfidfTransformer\n",
    "from sklearn.naive_bayes import MultinomialNB\n",
    "from sklearn.pipeline import Pipeline"
   ]
  },
  {
   "cell_type": "code",
   "execution_count": 25,
   "metadata": {
    "_cell_guid": "68c1b7c8-8436-be31-ed14-2aa98643b27e"
   },
   "outputs": [
    {
     "name": "stdout",
     "output_type": "stream",
     "text": [
      "Training...\n"
     ]
    }
   ],
   "source": [
    "print('Training...')\n",
    "\n",
    "text_clf = Pipeline([('vect', CountVectorizer()),\n",
    "                     ('tfidf', TfidfTransformer()),\n",
    "                     ('clf', MultinomialNB()),\n",
    "                     ])"
   ]
  },
  {
   "cell_type": "markdown",
   "metadata": {
    "_cell_guid": "491c1713-5cdc-fde3-b4cf-d9568d365ea3"
   },
   "source": []
  },
  {
   "cell_type": "code",
   "execution_count": 26,
   "metadata": {
    "_cell_guid": "6f92e9f3-c569-db9c-70d1-0b8b20a46c9d"
   },
   "outputs": [],
   "source": [
    "text_clf = text_clf.fit(X_train, y_train)"
   ]
  },
  {
   "cell_type": "markdown",
   "metadata": {
    "_cell_guid": "b972e0be-7412-0196-2a08-6c75b2cd11a0"
   },
   "source": []
  },
  {
   "cell_type": "code",
   "execution_count": 27,
   "metadata": {
    "_cell_guid": "ce671b4e-2567-82ad-7a7a-12802ed19316"
   },
   "outputs": [
    {
     "name": "stdout",
     "output_type": "stream",
     "text": [
      "Predicting...\n"
     ]
    }
   ],
   "source": [
    "print('Predicting...')\n",
    "predicted = text_clf.predict(X_test)"
   ]
  },
  {
   "cell_type": "markdown",
   "metadata": {
    "_cell_guid": "6da08f99-4973-2d83-46c2-d1b4ade75833"
   },
   "source": []
  },
  {
   "cell_type": "code",
   "execution_count": 30,
   "metadata": {
    "_cell_guid": "6d01e142-96d8-5336-9375-454ef1c644dc"
   },
   "outputs": [
    {
     "name": "stdout",
     "output_type": "stream",
     "text": [
      "accuracy_score 0.8948055555555555\n",
      "Reporting...\n"
     ]
    }
   ],
   "source": [
    "from sklearn import metrics\n",
    "\n",
    "print('accuracy_score',metrics.accuracy_score(y_test,predicted))\n",
    "print('Reporting...')"
   ]
  },
  {
   "cell_type": "markdown",
   "metadata": {
    "_cell_guid": "258d3fd4-83d9-0b1f-91bf-5f4f604126e7"
   },
   "source": []
  },
  {
   "cell_type": "markdown",
   "metadata": {
    "_cell_guid": "22fddd83-16b6-0c95-b24c-2084cc6fee41"
   },
   "source": []
  },
  {
   "cell_type": "code",
   "execution_count": 23,
   "metadata": {},
   "outputs": [
    {
     "data": {
      "text/plain": [
       "('clf', MultinomialNB(alpha=1.0, class_prior=None, fit_prior=True))"
      ]
     },
     "execution_count": 23,
     "metadata": {},
     "output_type": "execute_result"
    }
   ],
   "source": [
    "text_clf.steps[2]"
   ]
  },
  {
   "cell_type": "code",
   "execution_count": 40,
   "metadata": {},
   "outputs": [
    {
     "name": "stdout",
     "output_type": "stream",
     "text": [
      "              precision    recall  f1-score   support\n",
      "\n",
      "           0       0.90      0.89      0.89      8975\n",
      "           1       0.95      0.97      0.96      9009\n",
      "           2       0.86      0.86      0.86      9048\n",
      "           3       0.87      0.87      0.87      8968\n",
      "\n",
      "   micro avg       0.89      0.89      0.89     36000\n",
      "   macro avg       0.89      0.89      0.89     36000\n",
      "weighted avg       0.89      0.89      0.89     36000\n",
      "\n"
     ]
    }
   ],
   "source": [
    "print(metrics.classification_report(y_test, predicted, [0,1,2,3]))"
   ]
  },
  {
   "cell_type": "code",
   "execution_count": null,
   "metadata": {},
   "outputs": [],
   "source": []
  }
 ],
 "metadata": {
  "_change_revision": 2,
  "_is_fork": false,
  "kernelspec": {
   "display_name": "Python 3",
   "language": "python",
   "name": "python3"
  },
  "language_info": {
   "codemirror_mode": {
    "name": "ipython",
    "version": 3
   },
   "file_extension": ".py",
   "mimetype": "text/x-python",
   "name": "python",
   "nbconvert_exporter": "python",
   "pygments_lexer": "ipython3",
   "version": "3.7.3"
  }
 },
 "nbformat": 4,
 "nbformat_minor": 1
}
